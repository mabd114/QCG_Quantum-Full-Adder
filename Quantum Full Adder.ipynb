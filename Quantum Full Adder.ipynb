{
 "cells": [
  {
   "cell_type": "code",
   "execution_count": 1,
   "id": "7bb1e742",
   "metadata": {},
   "outputs": [],
   "source": [
    "import qiskit\n",
    "from qiskit import QuantumRegister, ClassicalRegister, QuantumCircuit, Aer, execute\n",
    "from qiskit import transpile\n",
    "from qiskit.visualization import plot_histogram\n",
    "from qiskit_aer import AerSimulator\n",
    "from qiskit import *"
   ]
  },
  {
   "cell_type": "code",
   "execution_count": 2,
   "id": "b2eceabc",
   "metadata": {},
   "outputs": [
    {
     "name": "stdout",
     "output_type": "stream",
     "text": [
      "take a 4-bit number a = 0010\n",
      "take another 4-bit number a = 1011\n",
      "{'01101': 100}\n"
     ]
    },
    {
     "data": {
      "image/png": "[encoded data removed]",
      "text/plain": [
       "<Figure size 504x360 with 1 Axes>"
      ]
     },
     "execution_count": 2,
     "metadata": {},
     "output_type": "execute_result"
    }
   ],
   "source": [
    "\n",
    "q =  QuantumRegister(13) \n",
    "c = ClassicalRegister(5)\n",
    "ckt = QuantumCircuit(q,c)\n",
    "    \n",
    "# Prepare the input qubits\n",
    "a = input('take a 4-bit number a = ')\n",
    "b = input('take another 4-bit number a = ')\n",
    "\n",
    "\n",
    "if a[3] == '1':\n",
    "    ckt.x(q[0]) \n",
    "if a[2] == '1':\n",
    "    ckt.x(q[4])\n",
    "if a[1] == '1':\n",
    "    ckt.x(q[7])\n",
    "if a[0] == '1':\n",
    "    ckt.x(q[10])    \n",
    "\n",
    "\n",
    "if b[3] == '1':\n",
    "    ckt.x(q[1]) \n",
    "if b[2] == '1':\n",
    "    ckt.x(q[5])\n",
    "if b[1] == '1':\n",
    "    ckt.x(q[8])\n",
    "if b[0] == '1':\n",
    "    ckt.x(q[11])\n",
    "\n",
    "\n",
    "\n",
    "ckt.ccx(q[0], q[1], q[3])\n",
    "ckt.cx(q[0], q[1])\n",
    "ckt.ccx(q[1], q[2], q[3])\n",
    "ckt.cx(q[1], q[2])\n",
    "ckt.cx(q[0], q[1])\n",
    "\n",
    "ckt.ccx(q[4], q[5], q[6])\n",
    "ckt.cx(q[4], q[5])\n",
    "ckt.ccx(q[5], q[3], q[6])\n",
    "ckt.cx(q[5], q[3])\n",
    "ckt.cx(q[4], q[5])\n",
    "\n",
    "ckt.ccx(q[7], q[8], q[9])\n",
    "ckt.cx(q[7], q[8])\n",
    "ckt.ccx(q[8], q[6], q[9])\n",
    "ckt.cx(q[8], q[6])\n",
    "ckt.cx(q[7], q[8])\n",
    "\n",
    "ckt.ccx(q[10], q[11], q[12])\n",
    "ckt.cx(q[10], q[11])\n",
    "ckt.ccx(q[11], q[9], q[12])\n",
    "ckt.cx(q[11], q[9])\n",
    "ckt.cx(q[10], q[11])\n",
    "\n",
    "\n",
    "\n",
    "ckt.measure(q[2], c[0])\n",
    "ckt.measure(q[3], c[1])\n",
    "ckt.measure(q[6], c[2])\n",
    "ckt.measure(q[9], c[3])\n",
    "ckt.measure(q[12], c[4])\n",
    "\n",
    "\n",
    "job = execute(ckt, Aer.get_backend('qasm_simulator'),shots=100)\n",
    "counts = job.result().get_counts(ckt)\n",
    "print(counts)\n",
    "\n",
    "plot_histogram(counts)\n",
    "    \n"
   ]
  },
  {
   "cell_type": "code",
   "execution_count": 3,
   "id": "a730fc62",
   "metadata": {},
   "outputs": [
    {
     "name": "stdout",
     "output_type": "stream",
     "text": [
      "take a 4-bit number a = 0001\n",
      "take another 4-bit number a = 0011\n",
      "{'00100': 100}\n"
     ]
    },
    {
     "data": {
      "image/png": "[encoded data removed]",
      "text/plain": [
       "<Figure size 504x360 with 1 Axes>"
      ]
     },
     "execution_count": 3,
     "metadata": {},
     "output_type": "execute_result"
    }
   ],
   "source": [
    "q =  QuantumRegister(13) \n",
    "c = ClassicalRegister(5)\n",
    "ckt = QuantumCircuit(q,c)\n",
    "    \n",
    "# Prepare the input qubits\n",
    "a = input('take a 4-bit number a = ')\n",
    "b = input('take another 4-bit number a = ')\n",
    "\n",
    "\n",
    "if a[3] == '1':\n",
    "    ckt.x(q[0]) \n",
    "if a[2] == '1':\n",
    "    ckt.x(q[4])\n",
    "if a[1] == '1':\n",
    "    ckt.x(q[7])\n",
    "if a[0] == '1':\n",
    "    ckt.x(q[10])    \n",
    "\n",
    "\n",
    "if b[3] == '1':\n",
    "    ckt.x(q[1]) \n",
    "if b[2] == '1':\n",
    "    ckt.x(q[5])\n",
    "if b[1] == '1':\n",
    "    ckt.x(q[8])\n",
    "if b[0] == '1':\n",
    "    ckt.x(q[11])\n",
    "\n",
    "\n",
    "\n",
    "ckt.ccx(q[0], q[1], q[3])\n",
    "ckt.cx(q[0], q[1])\n",
    "ckt.ccx(q[1], q[2], q[3])\n",
    "ckt.cx(q[1], q[2])\n",
    "ckt.cx(q[0], q[1])\n",
    "\n",
    "ckt.ccx(q[4], q[5], q[6])\n",
    "ckt.cx(q[4], q[5])\n",
    "ckt.ccx(q[5], q[3], q[6])\n",
    "ckt.cx(q[5], q[3])\n",
    "ckt.cx(q[4], q[5])\n",
    "\n",
    "ckt.ccx(q[7], q[8], q[9])\n",
    "ckt.cx(q[7], q[8])\n",
    "ckt.ccx(q[8], q[6], q[9])\n",
    "ckt.cx(q[8], q[6])\n",
    "ckt.cx(q[7], q[8])\n",
    "\n",
    "ckt.ccx(q[10], q[11], q[12])\n",
    "ckt.cx(q[10], q[11])\n",
    "ckt.ccx(q[11], q[9], q[12])\n",
    "ckt.cx(q[11], q[9])\n",
    "ckt.cx(q[10], q[11])\n",
    "\n",
    "\n",
    "\n",
    "ckt.measure(q[2], c[0])\n",
    "ckt.measure(q[3], c[1])\n",
    "ckt.measure(q[6], c[2])\n",
    "ckt.measure(q[9], c[3])\n",
    "ckt.measure(q[12], c[4])\n",
    "\n",
    "\n",
    "job = execute(ckt, Aer.get_backend('qasm_simulator'),shots=100)\n",
    "counts = job.result().get_counts(ckt)\n",
    "print(counts)\n",
    "\n",
    "plot_histogram(counts)"
   ]
  },
  {
   "cell_type": "code",
   "execution_count": null,
   "id": "8bad4713",
   "metadata": {},
   "outputs": [],
   "source": [
    "# a_3 = q[0], a_2 = q[4], a_1 = q[7], a_0 = q[10]\n",
    "# b_3 = q[1], b_2 = q[5], b_1 = q[8], b_0 = q[11]"
   ]
  },
  {
   "cell_type": "code",
   "execution_count": 4,
   "id": "bccc0ed3",
   "metadata": {},
   "outputs": [
    {
     "name": "stdout",
     "output_type": "stream",
     "text": [
      "{'00011': 22, '01101': 25, '00101': 27, '01111': 26}\n"
     ]
    },
    {
     "data": {
      "image/png": "[encoded data removed]",
      "text/plain": [
       "<Figure size 504x360 with 1 Axes>"
      ]
     },
     "execution_count": 4,
     "metadata": {},
     "output_type": "execute_result"
    }
   ],
   "source": [
    "q =  QuantumRegister(13) \n",
    "c = ClassicalRegister(5)\n",
    "ckt = QuantumCircuit(q,c)\n",
    "\n",
    "#initialising a\n",
    "ckt.h(q[7])\n",
    "ckt.x(q[4])\n",
    "ckt.cx(q[7], q[4])\n",
    "\n",
    "#initialising b\n",
    "ckt.x(q[1])\n",
    "ckt.h(q[8])\n",
    "ckt.cx(q[8], q[5])\n",
    "ckt.cx(q[8], q[11])\n",
    "ckt.cx(q[11], q[8])\n",
    "\n",
    "ckt.ccx(q[0], q[1], q[3])\n",
    "ckt.cx(q[0], q[1])\n",
    "ckt.ccx(q[1], q[2], q[3])\n",
    "ckt.cx(q[1], q[2])\n",
    "ckt.cx(q[0], q[1])\n",
    "\n",
    "ckt.ccx(q[4], q[5], q[6])\n",
    "ckt.cx(q[4], q[5])\n",
    "ckt.ccx(q[5], q[3], q[6])\n",
    "ckt.cx(q[5], q[3])\n",
    "ckt.cx(q[4], q[5])\n",
    "\n",
    "ckt.ccx(q[7], q[8], q[9])\n",
    "ckt.cx(q[7], q[8])\n",
    "ckt.ccx(q[8], q[6], q[9])\n",
    "ckt.cx(q[8], q[6])\n",
    "ckt.cx(q[7], q[8])\n",
    "\n",
    "ckt.ccx(q[10], q[11], q[12])\n",
    "ckt.cx(q[10], q[11])\n",
    "ckt.ccx(q[11], q[9], q[12])\n",
    "ckt.cx(q[11], q[9])\n",
    "ckt.cx(q[10], q[11])\n",
    "\n",
    "ckt.measure(q[2], c[0])\n",
    "ckt.measure(q[3], c[1])\n",
    "ckt.measure(q[6], c[2])\n",
    "ckt.measure(q[9], c[3])\n",
    "ckt.measure(q[12], c[4])\n",
    "\n",
    "job = execute(ckt,Aer.get_backend('qasm_simulator'),shots=100)\n",
    "counts = job.result().get_counts(ckt)\n",
    "print(counts)\n",
    "plot_histogram(counts)"
   ]
  },
  {
   "cell_type": "code",
   "execution_count": null,
   "id": "020c7e1a",
   "metadata": {},
   "outputs": [],
   "source": [
    "# a_3 = q[0], a_2 = q[4], a_1 = q[7], a_0 = q[10]\n",
    "# b_3 = q[1], b_2 = q[5], b_1 = q[8], b_0 = q[11]"
   ]
  },
  {
   "cell_type": "code",
   "execution_count": 5,
   "id": "99beb404",
   "metadata": {},
   "outputs": [
    {
     "name": "stdout",
     "output_type": "stream",
     "text": [
      "{'01000': 28, '00111': 29, '01110': 19, '01111': 24}\n"
     ]
    },
    {
     "data": {
      "image/png": "[encoded data removed]",
      "text/plain": [
       "<Figure size 504x360 with 1 Axes>"
      ]
     },
     "execution_count": 5,
     "metadata": {},
     "output_type": "execute_result"
    }
   ],
   "source": [
    "q =  QuantumRegister(13) \n",
    "c = ClassicalRegister(5)\n",
    "ckt = QuantumCircuit(q,c)\n",
    "\n",
    "#initialising a\n",
    "ckt.h(q[7])\n",
    "ckt.cx(q[7], q[4])\n",
    "ckt.cx(q[7], q[0])\n",
    "\n",
    "#initialising b\n",
    "ckt.h(q[8])\n",
    "ckt.cx(q[8], q[5])\n",
    "ckt.cx(q[8], q[1])\n",
    "ckt.x(q[11])\n",
    "ckt.cx(q[8], q[11])\n",
    "\n",
    "ckt.ccx(q[0], q[1], q[3])\n",
    "ckt.cx(q[0], q[1])\n",
    "ckt.ccx(q[1], q[2], q[3])\n",
    "ckt.cx(q[1], q[2])\n",
    "ckt.cx(q[0], q[1])\n",
    "\n",
    "ckt.ccx(q[4], q[5], q[6])\n",
    "ckt.cx(q[4], q[5])\n",
    "ckt.ccx(q[5], q[3], q[6])\n",
    "ckt.cx(q[5], q[3])\n",
    "ckt.cx(q[4], q[5])\n",
    "\n",
    "ckt.ccx(q[7], q[8], q[9])\n",
    "ckt.cx(q[7], q[8])\n",
    "ckt.ccx(q[8], q[6], q[9])\n",
    "ckt.cx(q[8], q[6])\n",
    "ckt.cx(q[7], q[8])\n",
    "\n",
    "ckt.ccx(q[10], q[11], q[12])\n",
    "ckt.cx(q[10], q[11])\n",
    "ckt.ccx(q[11], q[9], q[12])\n",
    "ckt.cx(q[11], q[9])\n",
    "ckt.cx(q[10], q[11])\n",
    "\n",
    "ckt.measure(q[2], c[0])\n",
    "ckt.measure(q[3], c[1])\n",
    "ckt.measure(q[6], c[2])\n",
    "ckt.measure(q[9], c[3])\n",
    "ckt.measure(q[12], c[4])\n",
    "\n",
    "job = execute(ckt,Aer.get_backend('qasm_simulator'),shots=100)\n",
    "counts = job.result().get_counts(ckt)\n",
    "print(counts)\n",
    "plot_histogram(counts)"
   ]
  },
  {
   "cell_type": "code",
   "execution_count": null,
   "id": "21bb090f",
   "metadata": {},
   "outputs": [],
   "source": []
  }
 ],
 "metadata": {
  "kernelspec": {
   "display_name": "Python 3 (ipykernel)",
   "language": "python",
   "name": "python3"
  },
  "language_info": {
   "codemirror_mode": {
    "name": "ipython",
    "version": 3
   },
   "file_extension": ".py",
   "mimetype": "text/x-python",
   "name": "python",
   "nbconvert_exporter": "python",
   "pygments_lexer": "ipython3",
   "version": "3.9.7"
  }
 },
 "nbformat": 4,
 "nbformat_minor": 5
}
